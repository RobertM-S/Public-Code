{
 "cells": [
  {
   "cell_type": "code",
   "execution_count": 52,
   "id": "ed8ede13",
   "metadata": {},
   "outputs": [],
   "source": [
    "import numpy as np\n",
    "import math\n",
    "from sklearn.datasets import load_diabetes\n",
    "from sklearn.model_selection import train_test_split\n",
    "from sklearn.linear_model import Lasso\n",
    "from sklearn.preprocessing import StandardScaler\n",
    "from sklearn.model_selection import cross_val_score\n",
    "from sklearn.model_selection import GridSearchCV\n",
    "import matplotlib.pyplot as plt"
   ]
  },
  {
   "cell_type": "code",
   "execution_count": 53,
   "id": "8a090380",
   "metadata": {},
   "outputs": [],
   "source": [
    "loadDiabetes = load_diabetes()\n",
    "X_train, X_test, Y_train, Y_test = train_test_split(loadDiabetes['data'], \n",
    "    loadDiabetes['target'], random_state=2705)"
   ]
  },
  {
   "cell_type": "code",
   "execution_count": 54,
   "id": "eef2cdd3",
   "metadata": {},
   "outputs": [
    {
     "name": "stdout",
     "output_type": "stream",
     "text": [
      "[[ 0.08166637  0.05068012 -0.00297252 ...  0.03430886 -0.00060925\n",
      "  -0.0010777 ]\n",
      " [-0.02730979  0.05068012  0.06061839 ...  0.03430886  0.03781448\n",
      "   0.04862759]\n",
      " [-0.02730979  0.05068012 -0.00728377 ... -0.03949338 -0.08238148\n",
      "  -0.02593034]\n",
      " ...\n",
      " [-0.04547248 -0.04464164 -0.0730303  ... -0.03949338 -0.00421986\n",
      "   0.00306441]\n",
      " [ 0.03081083  0.05068012 -0.00836158 ... -0.00812743 -0.02952762\n",
      "   0.0569118 ]\n",
      " [-0.02004471 -0.04464164 -0.0547075  ... -0.03949338 -0.07408887\n",
      "  -0.0052198 ]]\n"
     ]
    }
   ],
   "source": [
    "print(X_train)"
   ]
  },
  {
   "cell_type": "code",
   "execution_count": 55,
   "id": "10815d9a",
   "metadata": {},
   "outputs": [
    {
     "name": "stdout",
     "output_type": "stream",
     "text": [
      "[[-0.09632802 -0.04464164 -0.06979687 ... -0.03949338 -0.04687948\n",
      "  -0.07977773]\n",
      " [-0.09996055 -0.04464164 -0.06764124 ... -0.03949338 -0.04986847\n",
      "  -0.00936191]\n",
      " [-0.00188202  0.05068012  0.01427248 ... -0.00259226  0.01919903\n",
      "   0.00306441]\n",
      " ...\n",
      " [ 0.03444337 -0.04464164 -0.00728377 ... -0.03949338 -0.02139368\n",
      "   0.00720652]\n",
      " [ 0.02354575  0.05068012 -0.03961813 ... -0.03949338 -0.10164355\n",
      "  -0.06735141]\n",
      " [-0.01277963 -0.04464164 -0.02345095 ... -0.00259226 -0.03845911\n",
      "  -0.03835666]]\n"
     ]
    }
   ],
   "source": [
    "print(X_test)"
   ]
  },
  {
   "cell_type": "code",
   "execution_count": 56,
   "id": "5ea030ac",
   "metadata": {},
   "outputs": [
    {
     "name": "stdout",
     "output_type": "stream",
     "text": [
      "[139. 186.  52. 258.  90. 120. 116.  49. 270. 225. 178. 163.  55. 202.\n",
      "  88.  86. 161. 200. 111. 215. 122. 135. 200. 281. 136. 142. 182. 275.\n",
      " 200. 295. 181. 173.  97.  55.  97. 232. 173. 170. 147. 137. 123. 175.\n",
      "  47. 110. 230. 187. 272. 263. 232.  94. 214. 138. 310. 118. 190. 302.\n",
      " 242. 198. 155. 131.  85. 277. 246. 202.  43. 253. 128. 107. 292.  83.\n",
      "  31.  75.  99. 311.  89. 220. 198.  71. 222.  98. 248.  48. 140. 283.\n",
      " 233. 167. 152.  69.  84. 154. 206. 212.  59.  54. 257.  65. 111. 104.\n",
      "  53. 281. 111.  42.  72.  84.  50. 150.  97. 152. 296. 245. 217. 262.\n",
      "  49. 259. 179.  70.  64.  88.  91. 153. 220.  48. 121.  65. 220. 243.\n",
      " 292. 172. 150.  90. 202. 108.  52.  63.  83. 252. 132. 197. 261.  81.\n",
      "  74.  52.  51. 164. 141. 144. 128. 197.  67.  88.  84.  51. 131. 185.\n",
      "  74.  53. 219. 310. 151. 180.  92. 341. 170. 321. 214. 200.  67.  55.\n",
      " 265.  79.  71. 243.  91.  80. 138.  69.  68. 236. 132. 258. 214. 178.\n",
      "  63.  49. 288. 100. 189.  72. 113. 168. 148. 145. 115. 332.  52.  42.\n",
      "  96. 131. 183. 244. 268. 124. 202. 144. 109. 143. 217.  83. 118. 233.\n",
      " 252. 279. 129. 170. 306. 141.  39. 265. 265. 146. 101. 272. 128. 308.\n",
      " 103.  39.  77. 109. 219. 168.  93. 171. 258.  53. 210. 104. 129. 142.\n",
      " 102. 182. 174.  91.  95.  90.  93.  59. 246.  71. 144. 200. 192. 200.\n",
      " 235. 142. 107. 259.  61. 150. 126. 150.  60. 191. 233.  65.  99. 216.\n",
      "  69. 113. 196.  65. 151.  71. 104. 116.  78.  61.  81.  25.  72. 303.\n",
      " 262. 143. 131. 151. 114. 275. 195. 102. 191.  59. 163. 277. 103. 229.\n",
      " 245. 181.  85.  87.  90. 178.  77.  89. 275. 310. 230. 125. 280. 276.\n",
      " 127. 281. 336.  91.  68. 283.  92.  68. 275.  94. 273.  60. 252. 122.\n",
      " 249. 168. 281. 124. 263.  63.  57. 177.  42.]\n"
     ]
    }
   ],
   "source": [
    "print(Y_train)"
   ]
  },
  {
   "cell_type": "code",
   "execution_count": 57,
   "id": "36166683",
   "metadata": {},
   "outputs": [
    {
     "name": "stdout",
     "output_type": "stream",
     "text": [
      "[158.  55.  90.  48.  87.  72. 248. 118. 206. 208. 346.  77.  47.  72.\n",
      "  45. 162. 102.  53. 101. 140. 109. 160. 199.  72.  85. 248. 242. 268.\n",
      "  44. 190. 259. 317. 274. 178. 144. 158. 270. 221. 113. 172. 135. 137.\n",
      " 235. 209. 164.  51.  96. 185. 134. 237.  73.  94. 174.  88.  75.  58.\n",
      " 160.  64. 178.  66. 121.  78. 115. 293.  60. 129. 196.  77.  37.  63.\n",
      " 142. 109. 182. 185. 101. 110.  84. 139. 237. 242. 180. 225. 184. 127.\n",
      " 297. 134. 264. 201. 156.  71.  66. 104. 128.  96. 141.  96. 198.  59.\n",
      "  70. 257.  40. 241. 166. 220. 179.  85.  95.  97. 155.  78.  64.]\n"
     ]
    }
   ],
   "source": [
    "print(Y_test)"
   ]
  },
  {
   "cell_type": "code",
   "execution_count": 58,
   "id": "430e9b0e",
   "metadata": {},
   "outputs": [
    {
     "name": "stdout",
     "output_type": "stream",
     "text": [
      "0.3580505128421285 Traning set r2 with default parameters\n",
      "0.3878055097417916 Test set r2 with default parameters\n",
      "[False False  True  True False False False False  True False]\n",
      "['age', 'sex', 'bmi', 'bp', 's1', 's2', 's3', 's4', 's5', 's6']\n"
     ]
    }
   ],
   "source": [
    "lasso = Lasso().fit(X_train,Y_train)\n",
    "print(lasso.score(X_train,Y_train), \"Traning set r2 with default parameters\")\n",
    "print(lasso.score(X_test,Y_test), \"Test set r2 with default parameters\")\n",
    "print(lasso.coef_ != 0)\n",
    "print(loadDiabetes['feature_names'])"
   ]
  },
  {
   "cell_type": "markdown",
   "id": "a3769510",
   "metadata": {},
   "source": [
    "Training set r2 with default parameters = 0.3580505128421285\n",
    "\n",
    "Test set r2 with default parameters = 0.3878055097417916\n",
    "\n",
    "Number of feature used = 3\n",
    "\n",
    "Names of features used = bmi, bp, s5"
   ]
  },
  {
   "cell_type": "code",
   "execution_count": 59,
   "id": "49142ef2",
   "metadata": {},
   "outputs": [],
   "source": [
    "DData = np.genfromtxt(\"diabetes.txt\", delimiter=\"\\t\", usecols=np.arange(10))\n",
    "DLabel = np.genfromtxt(\"diabetes.txt\", delimiter=\"\\t\",usecols=10, dtype='int')\n",
    "DX_train, DX_test, DY_train, DY_test = train_test_split(DData, \n",
    "    DLabel, random_state=2705)"
   ]
  },
  {
   "cell_type": "code",
   "execution_count": 60,
   "id": "3da02a54",
   "metadata": {},
   "outputs": [
    {
     "name": "stdout",
     "output_type": "stream",
     "text": [
      "0.5074495146354505 Traning set r2 with default parameters\n",
      "0.5162385373580862 Test set r2 with default parameters\n",
      "[ True  True  True  True  True False  True False  True  True]\n",
      "['AGE', 'SEX', 'BMI', 'BP', 'S1', 'S2', 'S3', 'S4', 'S5', 'S6']\n"
     ]
    }
   ],
   "source": [
    "Dlasso = Lasso().fit(DX_train,DY_train)\n",
    "print(Dlasso.score(DX_train,DY_train), \"Traning set r2 with default parameters\")\n",
    "print(Dlasso.score(DX_test,DY_test), \"Test set r2 with default parameters\")\n",
    "print(Dlasso.coef_ != 0)\n",
    "DFeatures = [\"AGE\", \"SEX\", \"BMI\", \"BP\", \"S1\", \"S2\", \"S3\", \"S4\", \"S5\", \"S6\"]\n",
    "print(DFeatures)"
   ]
  },
  {
   "cell_type": "markdown",
   "id": "e015bd6e",
   "metadata": {},
   "source": [
    "Training set r2 with default parameters = 0.5074495146354505 \n",
    "\n",
    "Test set r2 with default parameters = 0.5162385373580862 \n",
    "\n",
    "Number of feature used = 8\n",
    "\n",
    "Names of features used = Age, Sex, Bmi, Bp, S1, S3, S5, S6\n",
    "\n",
    "Compared to the other data set, we saw an increase in both r2 values and an increase in features used."
   ]
  },
  {
   "cell_type": "code",
   "execution_count": 61,
   "id": "0ddb519d",
   "metadata": {},
   "outputs": [],
   "source": [
    "scaler = StandardScaler()\n",
    "scaler.fit(DX_train)\n",
    "DX_train_scaled = scaler.transform(DX_train)\n",
    "scaler.fit(DX_test)\n",
    "DX_test_scaled = scaler.transform(DX_test)"
   ]
  },
  {
   "cell_type": "code",
   "execution_count": 62,
   "id": "0f6626f8",
   "metadata": {},
   "outputs": [
    {
     "name": "stdout",
     "output_type": "stream",
     "text": [
      "0.5078944872911413 Scaled traning set r2 with default parameters\n",
      "0.4896118566008991 Scaled test set r2 with default parameters\n",
      "[False  True  True  True  True False  True False  True  True]\n",
      "['AGE', 'SEX', 'BMI', 'BP', 'S1', 'S2', 'S3', 'S4', 'S5', 'S6']\n"
     ]
    }
   ],
   "source": [
    "Dlasso_scaled = Lasso().fit(DX_train_scaled,DY_train)\n",
    "print(Dlasso_scaled.score(DX_train_scaled,DY_train), \"Scaled traning set r2 with default parameters\")\n",
    "print(Dlasso_scaled.score(DX_test_scaled,DY_test), \"Scaled test set r2 with default parameters\")\n",
    "print(Dlasso_scaled.coef_ != 0)\n",
    "print(DFeatures)"
   ]
  },
  {
   "cell_type": "markdown",
   "id": "52f1667f",
   "metadata": {},
   "source": [
    "After scaling my results, i noticed that they are far closer to the results in item 6 than in item 3, with the training set actually increasing the r2 value."
   ]
  },
  {
   "cell_type": "code",
   "execution_count": 93,
   "id": "b795a481",
   "metadata": {},
   "outputs": [
    {
     "data": {
      "text/plain": [
       "[<matplotlib.lines.Line2D at 0x2d643cd3340>]"
      ]
     },
     "execution_count": 93,
     "metadata": {},
     "output_type": "execute_result"
    },
    {
     "data": {
      "image/png": "[encoded data removed]",
      "text/plain": [
       "<Figure size 432x288 with 1 Axes>"
      ]
     },
     "metadata": {
      "needs_background": "light"
     },
     "output_type": "display_data"
    }
   ],
   "source": [
    "alphaIterator = 0.3\n",
    "LassoArray=[]\n",
    "while alphaIterator <= 50:\n",
    "    alphaIterator += 0.1\n",
    "    current = Lasso(alpha=alphaIterator).fit(DX_train_scaled,DY_train)\n",
    "    if len(LassoArray) == 0:\n",
    "        LassoArray.append(current)\n",
    "    elif sum(current.coef_ != 0) == sum(LassoArray[-1].coef_ !=0):\n",
    "        pass\n",
    "    else:\n",
    "        LassoArray.append(current)\n",
    "coef_number = []\n",
    "r2_score = []\n",
    "for i in LassoArray:\n",
    "    count = 0\n",
    "    for j in i.coef_ != 0:\n",
    "        if j:\n",
    "            count += 1\n",
    "    coef_number.append(count)\n",
    "    r2_score.append(i.score(DX_test_scaled,DY_test))\n",
    "            \n",
    "\n",
    "\n",
    "plt.plot(coef_number, r2_score, marker = 'x', label=\"test r2 against number of ceofficients\")         \n"
   ]
  },
  {
   "cell_type": "markdown",
   "id": "087a5c4e",
   "metadata": {},
   "source": [
    "At 6 features, we see the highest test r2 however, another point of note is between 1 and 2 where we see a massive increase in the test r2 value, compared to the relatively small increase between 0 and 1."
   ]
  },
  {
   "cell_type": "code",
   "execution_count": 75,
   "id": "e461d09b",
   "metadata": {},
   "outputs": [
    {
     "name": "stdout",
     "output_type": "stream",
     "text": [
      "{'alpha': 1}\n",
      "0.4709510848981438\n",
      "\n",
      "\n",
      "0.5078944872911413 test scores with best parameter\n",
      "7 coefficients used\n",
      "1 alpha used for best score\n"
     ]
    }
   ],
   "source": [
    "param_grid = {'alpha': [1, 2, 3, 4, 5, 6, 7, 8, 9, 10]}\n",
    "grid_search = GridSearchCV(Lasso(), param_grid)\n",
    "grid_search.fit(DX_train_scaled,DY_train)\n",
    "print(grid_search.best_params_)\n",
    "print(grid_search.best_score_)\n",
    "\n",
    "\n",
    "best_score = 0\n",
    "for alpha in [1, 2, 3, 4, 5, 6, 7, 8, 9, 10]:\n",
    "    lasso = Lasso(alpha=alpha)\n",
    "    score = cross_val_score(lasso, DX_train_scaled, DY_train, cv=5)\n",
    "    score = np.mean(score)\n",
    "    if score > best_score:\n",
    "        best_score = score\n",
    "        best_alpha = alpha\n",
    "lasso = Lasso(alpha = best_alpha).fit(DX_train_scaled,DY_train)\n",
    "test_lasso = lasso.score(DX_train_scaled,DY_train)\n",
    "print(\"\\n\")\n",
    "print(test_lasso, \"test scores with best parameter\")\n",
    "print(np.sum(lasso.coef_ !=0), \"coefficients used\")\n",
    "print(best_alpha, \"alpha used for best score\")"
   ]
  },
  {
   "cell_type": "code",
   "execution_count": 74,
   "id": "6d40c46c",
   "metadata": {},
   "outputs": [
    {
     "name": "stdout",
     "output_type": "stream",
     "text": [
      "Sizes of train Proper and Calibration 232 99 232 99\n"
     ]
    }
   ],
   "source": [
    "DX_train_pr, DX_Cali, DY_train_pr, DY_Cali = train_test_split(DX_train, \n",
    "    DY_train, test_size=99, random_state=2705)\n",
    "print(\"Sizes of train Proper and Calibration\", DX_train_pr.shape[0], DX_Cali.shape[0])"
   ]
  },
  {
   "cell_type": "code",
   "execution_count": 66,
   "id": "b37edd23",
   "metadata": {},
   "outputs": [],
   "source": [
    "scaler.fit(DX_train_pr)\n",
    "DX_train_pr_scaled = scaler.transform(DX_train_pr)\n",
    "DX_Cali_scaled = scaler.transform(DX_Cali)\n",
    "DX_test_scaled = scaler.transform(DX_test)"
   ]
  },
  {
   "cell_type": "code",
   "execution_count": 73,
   "id": "0eea88f5",
   "metadata": {},
   "outputs": [
    {
     "name": "stdout",
     "output_type": "stream",
     "text": [
      "0.46025215717813894 1\n",
      "[154 170  71 116 167 230  60 118  39  99  43 281  90 229 217 252 152 137\n",
      "  89 246 145 128 257  52 281 140 132 178 102 222 131 181 151 242 258  52\n",
      " 200  87 296 265  84 109 277 115  97 148  68 200 225 187 202 139 121 110\n",
      "  97 143  55 131 150 245 104  50 262 281 163 144 146  69 303  55  94 243\n",
      " 275  90 163 142 151 198 263  84 123 202 268 126  65 292 270 150 332 114\n",
      " 311  84  54  83 124  98  93 168 249  63  31 102 265  51 246  57 122  88\n",
      " 152 172 206 210  72 341  63  74 200 168 220 141 147  67  67 111 104 131\n",
      "  96 276 155  71  39 113  90 306 283 248 173 288 189 144 100 216 197 101\n",
      " 116 120 168 236 124  92 103  80 107  68  48  99  61 272  86 179 150 283\n",
      " 177 181 183  42 244  77 173  49 185 277 153  51 263  52 144  85 111  88\n",
      " 142 143 245 275 217  97 138  95  65  47 132 219 192 182  72 321 258 180\n",
      "  72 252 310 253 109  83  70 275  65  83  77  85 131  59 197 170  71  88\n",
      " 261 235 200  81  53 122  64 164 128  42 281 215  81 125  49  91]\n",
      "[[ 0.17276893 -0.94137074 -0.64262137 ... -0.09601318  0.14159796\n",
      "   0.211493  ]\n",
      " [ 1.30717624  1.06228074 -0.52630981 ... -0.09601318  0.73196777\n",
      "   0.38487242]\n",
      " [ 1.3828034   1.06228074 -0.52630981 ... -0.86811225 -0.44208211\n",
      "   0.211493  ]\n",
      " ...\n",
      " [-0.58350261 -0.94137074 -0.73567062 ... -0.86811225 -1.06738725\n",
      "  -2.73595715]\n",
      " [-1.79353708  1.06228074 -0.45652288 ... -0.86811225 -1.52117481\n",
      "  -0.39533497]\n",
      " [ 0.39965039  1.06228074 -0.24716207 ...  0.67608589  0.05909113\n",
      "   0.03811358]]\n",
      "[219 186 150 230 174 310 104 232 202  89 259 198 258 161 142  75 252 182\n",
      " 107 212 214 233 118 220 151 138 279 178  59  94 280 214 196 129  74 202\n",
      "  71  55 190 214 111  91 195  90 191 273  65  92 127  78 275 292  42  68\n",
      " 272 200 243  53 265  79  61  91 103  25 233 302 136  59 232  69  52  69\n",
      " 308  49 310  60  48  53  91 135 128 262 171 178 259 113 233 170 200 108\n",
      " 336 220 191 295 141 129  63  93 175]\n",
      "[[ 0.47527755  1.06228074 -0.38673594  1.04548516 -1.30825659 -1.2748024\n",
      "   0.13053772 -0.86811225 -0.57977932 -0.30864526]\n",
      " [-0.58350261  1.06228074  1.33467516  1.04548516  1.68668879  1.7505363\n",
      "  -0.02338732  0.67608589  0.72007489  0.99170039]\n",
      " [ 1.15592194  1.06228074  0.24134649  1.04548516 -0.11582464 -0.27277939\n",
      "  -0.86997499  0.67608589  1.18854272  0.64494155]\n",
      " [ 1.45843055 -0.94137074 -0.08432588 -0.09181426  1.74215074  2.0909672\n",
      "   0.28446275  0.67608589 -0.23302765  0.55825184]\n",
      " [-0.12973969 -0.94137074  0.21808418 -1.01587003  0.49425683  0.94763325\n",
      "  -0.86997499  1.44818496  0.25142124  0.03811358]\n",
      " [ 0.62653186  1.06228074  1.24162591  1.61413487  0.96568342 -0.27277939\n",
      "  -0.71604996  1.44818496  2.3965988   1.8585975 ]\n",
      " [-1.49102846  1.06228074 -1.89878623 -1.51343852 -0.89229196 -0.54897804\n",
      "  -0.63908744 -0.09601318 -0.31386204 -1.17554237]\n",
      " [ 1.23154909  1.06228074  0.52049423  1.04548516  0.30014     0.22180889\n",
      "  -0.25427486 -0.09601318  0.75538187  0.38487242]\n",
      " [ 0.09714178  1.06228074  0.68333042  1.75629729 -0.78136805 -0.99218053\n",
      "   0.36142526 -0.86811225  0.12543108  0.29818271]\n",
      " [ 1.60968486  1.06228074 -0.5030475  -0.8502508   0.10602317  1.06325129\n",
      "  -1.4087126   1.64893072 -0.80760223  1.16507981]\n",
      " [ 0.92904047  1.06228074  1.49751134  0.1925106  -0.36540342  0.07407473\n",
      "  -1.56263763  1.44818496  0.61043744 -0.39533497]\n",
      " [ 0.24839608 -0.94137074  0.75311735  0.71353589  0.57744976  0.53654689\n",
      "  -0.02338732  0.14333753  0.58516508  0.55825184]\n",
      " [-0.88601123 -0.94137074  1.05552741  1.2587288   2.54634904  2.60482515\n",
      "  -0.48516241  2.22028403  1.25172363  0.81832097]\n",
      " [-0.12973969  1.06228074 -0.15411282 -0.02073304 -0.69817513 -1.32618819\n",
      "  -0.71604996 -0.09601318  1.59215721  0.12480329]\n",
      " [-0.20536684  1.06228074  0.05524799 -0.02073304  1.57576489  1.41652863\n",
      "   0.74623784 -0.09601318  0.49392442  1.68521808]\n",
      " [ 1.3828034   1.06228074 -0.87524449  0.26359181  0.02283024  0.09976763\n",
      "   0.90016287 -0.86811225 -1.26306223 -0.48202468]\n",
      " [-0.50787546  1.06228074 -0.52630981  0.90332273 -1.11413976 -0.99860375\n",
      "  -0.4081999  -0.86811225 -0.02731805  0.38487242]\n",
      " [-1.03726554 -0.94137074  0.56701886  0.1925106   0.38333293  0.34385015\n",
      "   1.13105042 -0.86811225 -0.89010906  0.12480329]\n",
      " [-0.81038408  1.06228074  0.12503493  0.76116031 -0.25447951  0.09976763\n",
      "  -0.94693751  0.67608589  0.28171091 -0.04857613]\n",
      " [ 0.77778616  1.06228074  0.38092036  0.47683545  0.77156659  0.90267068\n",
      "  -0.86997499  1.44818496  0.96387886  0.29818271]\n",
      " [-1.33977416 -0.94137074 -0.689146   -0.66046396 -0.00490073  0.47231464\n",
      "  -0.48516241 -0.09601318 -0.50972285 -1.26223208]\n",
      " [-0.96163838  1.06228074  2.98629932 -0.3050579   0.79929756  0.63289525\n",
      "  -0.86997499  1.44818496  1.39703971  0.99170039]\n",
      " [ 0.85341332  1.06228074  0.33439574  0.90332273 -0.64271318 -0.04796654\n",
      "  -0.86997499 -0.09601318 -0.72844027  0.29818271]\n",
      " [ 1.45843055 -0.94137074  1.52077365  0.80878472  0.4110639   0.00984248\n",
      "  -0.71604996  0.77645877  1.53194952  2.20535634]\n",
      " [-0.50787546 -0.94137074 -0.316949   -0.23397668  0.38333293  0.82559199\n",
      "  -0.86997499  0.67608589  0.23618349 -0.22195555]\n",
      " [ 0.92904047  1.06228074  0.14829724  1.18764759  1.27072415  1.80834532\n",
      "  -0.79301248  1.44818496  0.26665898 -0.22195555]\n",
      " [-0.58350261 -0.94137074  1.93949527 -0.49484474  0.4110639   0.85128488\n",
      "  -0.63908744  0.67608589  0.00761727  1.59852837]\n",
      " [ 0.32402324 -0.94137074 -0.96829374 -0.09181426 -1.55783538 -1.28122562\n",
      "  -0.25427486 -0.86811225 -1.09860605  0.38487242]\n",
      " [-0.88601123 -0.94137074 -1.41027767 -0.94478882 -0.78136805 -0.90867861\n",
      "   1.05408791 -0.86811225 -1.19542149 -0.30864526]\n",
      " [-0.12973969  1.06228074 -0.22389975  0.26359181 -0.47632732 -0.33701163\n",
      "  -0.4081999  -0.09601318  0.17374589  1.42514895]\n",
      " [ 0.09714178 -0.94137074  1.10205204  2.04062215 -0.33767244 -0.35628131\n",
      "  -0.10034983 -0.09601318  0.296577   -0.30864526]\n",
      " [-0.88601123 -0.94137074 -1.38701536 -0.80262639 -0.14355561  0.27319469\n",
      "  -0.86997499  0.67608589  0.09253984 -0.30864526]\n",
      " [ 0.02151462  1.06228074  0.59028117 -0.16289547  0.46652586  0.76778297\n",
      "  -0.4081999   0.67608589  0.14159796  0.03811358]\n",
      " [ 1.00466763  1.06228074  0.10177262  1.47197244 -0.19901756  0.25392501\n",
      "  -1.10086254  0.67608589  0.22075991  0.73163126]\n",
      " [-0.73475692  1.06228074 -0.52630981 -0.3285147  -0.00490073 -0.08008266\n",
      "   0.20750023 -0.36624786  0.25142124  0.81832097]\n",
      " [ 0.17276893 -0.94137074  1.00900279  0.61899788  0.21694707 -0.30489551\n",
      "   0.59231281 -0.86811225  0.88973421  0.73163126]\n",
      " [-1.79353708  1.06228074 -0.85198218 -0.66046396 -1.66875928 -1.44822946\n",
      "  -0.10034983 -0.86811225 -1.22905604 -0.91547323]\n",
      " [-1.11289269 -0.94137074  1.56729828 -1.51343852 -0.33767244 -0.04796654\n",
      "   0.13053772 -0.48978371 -1.00643626  0.03811358]\n",
      " [-1.18851985 -0.94137074 -0.22389975 -0.66046396 -0.97548488 -0.99860375\n",
      "   0.13053772 -0.86811225 -0.21333007 -1.86906005]\n",
      " [ 0.92904047 -0.94137074 -0.38673594  0.47683545  0.52198781 -0.29847229\n",
      "   2.13156313 -0.86811225  0.3114431  -0.30864526]\n",
      " [-0.96163838 -0.94137074 -1.01481837 -0.37613911 -0.03263171 -0.34985808\n",
      "   1.43890049 -0.86811225 -0.55617939  0.38487242]\n",
      " [ 1.15592194  1.06228074 -0.64262137  0.1925106   0.35560195  0.41450562\n",
      "   0.74623784 -0.86811225 -0.65262319 -1.26223208]\n",
      " [-0.12973969 -0.94137074  0.96247816  1.82737851  0.24467805  0.12546052\n",
      "  -0.25427486 -0.09601318  0.81243051 -0.39533497]\n",
      " [-1.64228277 -0.94137074 -0.34021131 -0.23397668 -0.03263171 -0.29847229\n",
      "   1.515863   -0.86811225 -0.89010906 -1.95574976]\n",
      " [ 0.39965039 -0.94137074  0.12503493  0.97440395 -0.39313439 -1.13991469\n",
      "   1.36193797 -0.86811225  0.5335054   1.25176953]\n",
      " [ 0.70215901 -0.94137074  0.42744499  1.18764759  0.21694707 -1.13991469\n",
      "  -1.4087126   1.44818496  2.60100761  0.12480329]\n",
      " [ 0.02151462 -0.94137074 -0.82871987 -2.05863143 -0.6149822  -0.63890318\n",
      "   0.97712539 -1.09202098 -1.44368529 -2.73595715]\n",
      " [ 0.39965039 -0.94137074 -0.47978519 -1.44235731  0.38333293 -0.22781682\n",
      "   2.51637571 -1.64021133 -0.91854047  1.51183866]\n",
      " [ 0.77778616  1.06228074  0.21808418  0.90332273 -0.89229196 -0.45262967\n",
      "  -0.79301248 -0.09601318 -0.4199688   0.12480329]\n",
      " [-0.81038408 -0.94137074  1.47424903 -1.22911367 -0.6149822  -0.49759225\n",
      "  -0.17731235 -0.09601318 -0.08120765  0.38487242]\n",
      " [ 1.00466763  1.06228074  1.28815053  1.47197244  0.24467805  0.40165917\n",
      "  -0.4081999   0.67608589  0.39785228  0.55825184]\n",
      " [-0.73475692  1.06228074  0.00872337  1.47197244  0.77156659  1.35229639\n",
      "  -1.33175009  2.22028403  0.49392442  1.51183866]\n",
      " [-0.4322483  -0.94137074 -1.15439224 -1.08695124 -1.36371855 -1.19772371\n",
      "   0.28446275 -0.86811225 -1.56112744 -0.13526584]\n",
      " [-1.03726554 -0.94137074 -1.20091686 -0.8737076  -0.94775391 -0.90867861\n",
      "   0.0535752  -0.86811225 -0.29323533  0.29818271]\n",
      " [-0.12973969 -0.94137074  1.24162591 -0.73154518 -1.00321586 -0.90225538\n",
      "  -1.48567512  0.7532958   0.98450556  1.16507981]\n",
      " [-1.49102846 -0.94137074  2.03254452  0.28704861  0.38333293  0.85128488\n",
      "   0.0535752  -0.03424526 -1.16253026 -0.04857613]\n",
      " [-0.58350261  1.06228074  1.33467516  2.25386579  0.21694707 -0.38197421\n",
      "  -0.02338732 -0.09601318  1.38050118  2.81218431]\n",
      " [ 0.5509047   1.06228074 -0.73567062  0.69007909 -0.25447951  0.00984248\n",
      "  -0.17731235 -0.09601318 -0.35567293 -1.08885266]\n",
      " [ 0.24839608 -0.94137074  0.52049423  1.11656637  0.13375415 -0.60678706\n",
      "   0.82320036 -0.86811225  1.06478248 -0.56871439]\n",
      " [-0.05411253 -0.94137074 -1.41027767  0.05034817 -0.08809366  0.04195861\n",
      "   0.28446275 -0.09601318 -0.46438126 -0.56871439]\n",
      " [-1.49102846 -0.94137074 -0.06106357 -0.80262639 -1.36371855 -1.63450297\n",
      "   1.13105042 -1.64021133 -1.09860605 -0.74209381]\n",
      " [ 0.09714178 -0.94137074  1.31141285 -1.13457566  0.46652586  1.06325129\n",
      "  -0.86997499  1.02353047 -0.13676968 -0.6554041 ]\n",
      " [-1.56665562 -0.94137074  0.96247816 -0.66046396  0.21694707 -0.01585041\n",
      "   1.36193797 -0.86811225 -0.6037509  -1.00216295]\n",
      " [-0.35662115 -0.94137074 -0.20063744  0.05034817 -0.78136805 -0.75452122\n",
      "   0.28446275 -0.86811225 -0.48686622 -0.74209381]\n",
      " [-1.64228277  1.06228074  1.70687215  1.11656637  1.54803391  1.30091059\n",
      "   0.59231281 -0.09601318  0.77842432 -0.22195555]\n",
      " [-1.94479139 -0.94137074  0.63680579 -0.3050579   0.71610464  0.49158432\n",
      "   1.20801294 -0.86811225 -0.15553812 -0.04857613]\n",
      " [ 0.09714178 -0.94137074  1.28815053 -0.8737076  -1.50237342 -1.50603848\n",
      "   0.43838778 -1.64021133 -1.09860605 -0.56871439]\n",
      " [-1.11289269 -0.94137074 -0.17737513 -0.09181426  0.77156659  0.89624745\n",
      "   0.59231281 -0.09601318 -0.4199688  -0.30864526]\n",
      " [ 0.39965039  1.06228074  1.00900279  0.64245468 -1.28052562 -1.16560758\n",
      "  -1.48567512  0.52166608  0.87895629  0.81832097]\n",
      " [ 0.5509047   1.06228074  0.40418267 -0.66046396 -0.17128659  0.92194035\n",
      "  -1.33175009  1.44818496 -2.01658744 -1.26223208]\n",
      " [-0.88601123 -0.94137074  0.91595354 -0.51830154 -0.67044415 -0.64532641\n",
      "  -0.71604996  0.01980168  0.63533815 -0.39533497]\n",
      " [ 0.70215901  1.06228074 -0.61935906  0.12142939  1.85307464  1.76338275\n",
      "   0.74623784 -0.09601318  0.43966317 -0.82878352]\n",
      " [-0.35662115  1.06228074  2.77693851  2.04062215  0.30014     0.33742693\n",
      "  -0.4081999   0.67608589  0.66005303  0.03811358]\n",
      " [ 0.32402324 -0.94137074  0.05524799  0.1925106   0.07829219  0.20253922\n",
      "   0.66927533 -0.86811225 -0.97670407  0.64494155]\n",
      " [ 1.00466763  1.06228074  1.93949527  1.82737851  0.68837366  0.42092885\n",
      "  -0.48516241  0.67608589  1.29576443  2.7254946 ]\n",
      " [-0.65912977 -0.94137074  0.14829724 -0.16289547  0.35560195  0.1190373\n",
      "   1.59282552 -0.86811225 -0.89010906 -0.91547323]\n",
      " [-0.4322483  -0.94137074  0.12503493  2.04062215  0.07829219 -0.44620645\n",
      "   1.36193797 -0.86811225  0.20515051  0.211493  ]\n",
      " [ 0.47527755  1.06228074 -0.66588368 -0.80262639 -0.67044415 -0.46547612\n",
      "  -0.25427486 -0.09601318 -0.27298028  0.38487242]\n",
      " [ 0.17276893  1.06228074 -0.82871987  0.61899788  0.74383561  1.4871841\n",
      "  -1.48567512  2.22028403  0.26665898 -1.00216295]\n",
      " [ 0.09714178 -0.94137074 -0.75893293  0.47683545  0.05056122  0.29888758\n",
      "   0.20750023 -0.09601318 -0.70279626 -1.00216295]\n",
      " [-0.73475692 -0.94137074 -0.78219525 -1.22911367  0.38333293  0.87055456\n",
      "  -0.25427486 -0.09601318 -0.6775239  -1.52230121]\n",
      " [ 0.02151462  1.06228074 -0.10758819 -0.37613911 -0.22674854  0.08049795\n",
      "  -0.79301248  0.67608589  0.25142124  2.03197692]\n",
      " [-1.11289269  1.06228074 -0.36347363  1.68521608  1.76988172  2.18731556\n",
      "  -0.79301248  2.22028403  0.68439626 -0.91547323]\n",
      " [ 0.85341332  1.06228074  0.4507073   1.2587288  -0.14355561 -0.07365943\n",
      "  -0.56212493 -0.09601318  0.58516508  0.12480329]\n",
      " [-0.88601123 -0.94137074  2.80020082  1.32981001 -0.69817513 -0.69028898\n",
      "   0.28446275 -0.86811225 -0.37685712 -1.08885266]\n",
      " [-1.11289269 -0.94137074  0.00872337 -0.51830154  0.1892161   0.12546052\n",
      "   1.05408791 -0.86811225 -0.78084326  0.38487242]\n",
      " [ 0.24839608 -0.94137074 -0.40999825 -0.3050579   0.21694707  0.41450562\n",
      "  -1.56263763  2.22028403  1.1699601  -0.48202468]\n",
      " [ 0.85341332 -0.94137074 -1.36375305  0.76116031  0.21694707 -1.21057016\n",
      "   3.82473848 -1.64021133 -0.06318251 -1.08885266]\n",
      " [ 0.32402324 -0.94137074 -0.99155605 -0.02073304 -0.42086537 -0.90225538\n",
      "   0.74623784 -0.86811225  0.50711808  0.55825184]\n",
      " [ 1.3828034   1.06228074 -0.61935906  1.21110439 -0.03263171 -0.34343486\n",
      "   1.59282552 -1.09974198 -0.83473286  0.12480329]\n",
      " [ 0.70215901  1.06228074  2.42800383  1.61413487 -0.67044415 -0.71598188\n",
      "  -0.4081999  -0.09601318  0.52049756  1.51183866]\n",
      " [-0.96163838 -0.94137074  0.86942892  0.05034817  0.30014     0.29246436\n",
      "  -0.56212493  0.51394508  0.8570288  -0.56871439]\n",
      " [ 0.17276893 -0.94137074  0.33439574  0.33467303  1.07660732  0.94763325\n",
      "   1.515863   -0.86811225 -0.72844027 -1.26223208]\n",
      " [ 0.85341332  1.06228074  1.56729828  0.1925106   0.74383561  0.30531081\n",
      "  -0.33123738  0.67608589  1.44572617  1.77190779]\n",
      " [ 1.76093917  1.06228074  0.98574048 -0.09181426 -0.94775391 -0.7224051\n",
      "  -0.63908744 -0.09601318  0.00761727 -0.56871439]\n",
      " [-1.264147   -0.94137074  0.98574048 -0.37613911 -0.22674854 -0.17643102\n",
      "   0.51535029 -0.86811225 -0.6037509  -0.22195555]\n",
      " [ 1.30717624  1.06228074 -0.01453895  1.40089123  1.79761269  2.21300846\n",
      "   0.51535029  0.32864131 -0.78084326  0.03811358]\n",
      " [ 0.32402324 -0.94137074 -0.94503143 -1.15803246 -0.7259061  -1.12706824\n",
      "   1.59282552 -1.64021133 -0.91854047  0.81832097]\n",
      " [-0.50787546 -0.94137074  1.00900279  1.89845972 -0.39313439 -0.748098\n",
      "   1.515863   -0.86811225 -0.75445594 -0.22195555]]\n"
     ]
    }
   ],
   "source": [
    "#a = (trueLabel - Prediction)Positive\n",
    "best_score = 0\n",
    "for alpha in [1, 2, 3, 4, 5, 6, 7, 8, 9, 10]:\n",
    "    lasso = Lasso(alpha=alpha)\n",
    "    score = cross_val_score(lasso, DX_train_pr_scaled, DY_train_pr)\n",
    "    score = np.mean(score)\n",
    "    if score > best_score:\n",
    "        best_score = score\n",
    "        best_alpha = alpha\n",
    "print(best_score, best_alpha)\n",
    "\n",
    "print(DY_train_pr)\n",
    "print(DX_train_pr_scaled)\n",
    "\n",
    "print(DY_Cali)\n",
    "print(DX_Cali_scaled)"
   ]
  },
  {
   "cell_type": "code",
   "execution_count": null,
   "id": "0a052e16",
   "metadata": {},
   "outputs": [],
   "source": []
  }
 ],
 "metadata": {
  "kernelspec": {
   "display_name": "Python 3",
   "language": "python",
   "name": "python3"
  },
  "language_info": {
   "codemirror_mode": {
    "name": "ipython",
    "version": 3
   },
   "file_extension": ".py",
   "mimetype": "text/x-python",
   "name": "python",
   "nbconvert_exporter": "python",
   "pygments_lexer": "ipython3",
   "version": "3.8.8"
  }
 },
 "nbformat": 4,
 "nbformat_minor": 5
}
