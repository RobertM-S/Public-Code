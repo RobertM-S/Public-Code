{
 "cells": [
  {
   "cell_type": "code",
   "execution_count": 42,
   "id": "71fe2194",
   "metadata": {},
   "outputs": [],
   "source": [
    "import numpy as np\n",
    "import math\n",
    "from sklearn.datasets import load_iris\n",
    "from sklearn.model_selection import train_test_split"
   ]
  },
  {
   "cell_type": "markdown",
   "id": "69bf2357",
   "metadata": {},
   "source": [
    "The Cell containing all the imports I need"
   ]
  },
  {
   "cell_type": "code",
   "execution_count": 43,
   "id": "2bf62ff5",
   "metadata": {},
   "outputs": [],
   "source": [
    "iris = load_iris()\n",
    "X_train, X_test, Y_train, Y_test = train_test_split(iris['data'], \n",
    "    iris['target'], random_state=2705)\n",
    "\n",
    "IoData = np.genfromtxt(\"ionosphere.txt\", delimiter=\",\", usecols=np.arange(34))\n",
    "IoLabel = np.genfromtxt(\"ionosphere.txt\", delimiter=\",\",usecols=34, dtype='int')\n",
    "IoX_train, IoX_test, IoY_train, IoY_test = train_test_split(IoData, \n",
    "    IoLabel, random_state=2705)"
   ]
  },
  {
   "cell_type": "markdown",
   "id": "3f6914b9",
   "metadata": {},
   "source": [
    "The cell that imports the ionosphere text file and splits both the text file and iris into sets"
   ]
  },
  {
   "cell_type": "code",
   "execution_count": 34,
   "id": "1e89ff01",
   "metadata": {},
   "outputs": [
    {
     "name": "stdout",
     "output_type": "stream",
     "text": [
      "[[ 1.       0.      -0.65625 ...  0.       0.       0.09375]\n",
      " [ 1.       0.       0.95559 ... -0.01957  0.78761 -0.02039]\n",
      " [ 1.       0.       0.83427 ...  0.70011 -0.03983  0.79444]\n",
      " ...\n",
      " [ 1.       0.       0.98002 ...  0.08126  0.97247  0.08616]\n",
      " [ 0.       0.       0.      ...  1.       0.       0.     ]\n",
      " [ 1.       0.       0.88103 ... -0.18542  0.91747 -0.16827]]\n"
     ]
    }
   ],
   "source": [
    "print(IoX_train)"
   ]
  },
  {
   "cell_type": "code",
   "execution_count": 33,
   "id": "c5d24314",
   "metadata": {},
   "outputs": [
    {
     "name": "stdout",
     "output_type": "stream",
     "text": [
      "[[ 1.       0.       0.82624 ...  0.18085  0.92553  0.     ]\n",
      " [ 1.       0.       1.      ... -0.92128 -0.13341 -1.     ]\n",
      " [ 1.       0.       0.79378 ... -0.23199  0.34572 -0.08036]\n",
      " ...\n",
      " [ 1.       0.       1.      ...  0.10067  1.       0.10067]\n",
      " [ 1.       0.       1.      ... -0.47977  0.75115 -0.50152]\n",
      " [ 1.       0.       0.84713 ... -0.37792  0.65817 -0.24841]]\n"
     ]
    }
   ],
   "source": [
    "print(IoX_test)"
   ]
  },
  {
   "cell_type": "code",
   "execution_count": 6,
   "id": "721902c1",
   "metadata": {},
   "outputs": [
    {
     "name": "stdout",
     "output_type": "stream",
     "text": [
      "[-1  1  1  1  1 -1 -1  1 -1  1 -1  1 -1  1  1 -1 -1 -1  1  1 -1  1  1 -1\n",
      "  1  1 -1  1 -1 -1  1  1  1  1  1  1  1  1  1  1 -1  1  1 -1  1  1 -1 -1\n",
      "  1  1 -1  1  1  1  1 -1  1  1  1  1  1 -1  1  1  1  1  1  1  1  1 -1 -1\n",
      " -1  1  1  1  1  1 -1  1  1  1 -1 -1 -1  1 -1 -1  1  1  1  1  1 -1  1  1\n",
      "  1  1 -1  1 -1  1  1  1  1  1  1 -1 -1  1  1 -1  1 -1 -1  1  1  1 -1  1\n",
      " -1  1 -1 -1  1  1  1  1 -1  1 -1 -1  1 -1  1 -1  1  1 -1  1  1  1 -1  1\n",
      "  1 -1  1  1  1  1  1  1  1  1  1 -1  1  1 -1  1  1 -1  1  1 -1 -1 -1  1\n",
      "  1  1  1 -1  1 -1  1  1  1  1  1  1  1 -1  1  1 -1 -1  1 -1  1  1 -1  1\n",
      "  1  1  1 -1 -1  1 -1  1 -1 -1 -1  1  1  1  1  1  1  1  1  1 -1  1 -1 -1\n",
      "  1  1 -1 -1 -1  1  1  1  1  1  1  1  1 -1  1 -1 -1 -1  1 -1  1 -1 -1  1\n",
      "  1  1  1 -1  1  1 -1 -1  1  1 -1  1 -1  1 -1  1  1 -1  1  1  1 -1  1]\n"
     ]
    }
   ],
   "source": [
    "print(IoY_train)"
   ]
  },
  {
   "cell_type": "code",
   "execution_count": 42,
   "id": "647224e5",
   "metadata": {},
   "outputs": [
    {
     "name": "stdout",
     "output_type": "stream",
     "text": [
      "[0 0 2 0 0 2 1 2 2 1 1 2 0 1 0 2 1 0 2 1 1 1 1 2 1 0 2 1 2 1 1 0 2 1 0 1 2\n",
      " 2]\n"
     ]
    }
   ],
   "source": [
    "print(Y_test)"
   ]
  },
  {
   "cell_type": "code",
   "execution_count": 54,
   "id": "d76b0ad9",
   "metadata": {},
   "outputs": [
    {
     "name": "stdout",
     "output_type": "stream",
     "text": [
      "Percentage correct:  94.73684210526315\n",
      "P-False value:  0.013157894736842035\n"
     ]
    }
   ],
   "source": [
    "#Xtest = IoX_test \n",
    "#Xtrain = IoX_train \n",
    "#Ytest = IoY_test \n",
    "#Ytrain = IoY_train \n",
    "\n",
    "Xtest = X_test\n",
    "Xtrain = X_train\n",
    "Ytest = Y_test\n",
    "Ytrain = Y_train\n",
    "\n",
    "correct = 0\n",
    "Pfalse = 0\n",
    "values = np.unique(Ytest)\n",
    "FalseConformity = []\n",
    "Conformity = []\n",
    "for i in range(len(Xtest)):   \n",
    "    minimum = {}\n",
    "    for k in range(len(values)):\n",
    "        minimum[values[k]] = math.inf\n",
    "    for j in range(len(Xtrain)):\n",
    "        dotProduct = 0\n",
    "        for n in range(len(Xtrain[j])):\n",
    "            dotProduct = dotProduct + (Xtrain[j][n] - Xtest[i][n])**2\n",
    "        dotProduct = dotProduct**0.5\n",
    "        for key in minimum:\n",
    "            if dotProduct < minimum.get(key) and key == Ytrain[j]:\n",
    "                minimum[key] = dotProduct             \n",
    "    firstMin = min(minimum, key=minimum.get)   \n",
    "    if Ytest[i] == firstMin: \n",
    "        correct += 1\n",
    "        lowest = minimum.get(firstMin)\n",
    "        del minimum[firstMin]\n",
    "        secondMin = min(minimum, key=minimum.get)\n",
    "        Conformity.append(minimum.get(secondMin)/lowest)\n",
    "        #Conformity.append(1/lowest)\n",
    "    else:    \n",
    "        FalseConformity.append(minimum.get(firstMin)/minimum.get(Ytest[i]))\n",
    "        #FalseConformity.append(1/minimum.get(Ytest[i]))\n",
    "for i in range(len(Conformity)):\n",
    "    FalseConformity.append(Conformity[i])\n",
    "for i in range(len(FalseConformity)-correct):\n",
    "    rank = 1\n",
    "    for j in range(len(FalseConformity)):\n",
    "        if FalseConformity[i] < FalseConformity[j]:\n",
    "            rank += 1\n",
    "    Pfalse = Pfalse + rank/len(FalseConformity)\n",
    "print(\"Percentage correct: \", (correct/len(Xtest))*100)\n",
    "print(\"P-False value: \", 1-Pfalse/(len(Xtest)-correct))"
   ]
  },
  {
   "cell_type": "markdown",
   "id": "3f694b42",
   "metadata": {},
   "source": [
    "The cell containing the code for nearest neighbour and conformal predictor, alternate the comments to change which dataset is being used. IoX/IoY uses the ionosphere dataset and X/Y uses the iris dataset.\n",
    "When using the conformity measure used in slide 15 of chapter 3, the P-False values grew both times due to the fact that 1 is ofter larger than the two lowest values in each dataset."
   ]
  },
  {
   "cell_type": "code",
   "execution_count": null,
   "id": "e2793c3c",
   "metadata": {
    "scrolled": true
   },
   "outputs": [],
   "source": []
  }
 ],
 "metadata": {
  "kernelspec": {
   "display_name": "Python 3",
   "language": "python",
   "name": "python3"
  },
  "language_info": {
   "codemirror_mode": {
    "name": "ipython",
    "version": 3
   },
   "file_extension": ".py",
   "mimetype": "text/x-python",
   "name": "python",
   "nbconvert_exporter": "python",
   "pygments_lexer": "ipython3",
   "version": "3.8.8"
  }
 },
 "nbformat": 4,
 "nbformat_minor": 5
}
