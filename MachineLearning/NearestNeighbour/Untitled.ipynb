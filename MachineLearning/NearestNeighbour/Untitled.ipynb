{
 "cells": [
  {
   "cell_type": "code",
   "execution_count": 3,
   "id": "e5ccdaa3",
   "metadata": {},
   "outputs": [
    {
     "name": "stdout",
     "output_type": "stream",
     "text": [
      "5.0\n"
     ]
    }
   ],
   "source": [
    "import numpy as np\n",
    "def E_len(x):\n",
    "    dotProduct = 0\n",
    "    for i in range(len(x)):\n",
    "        dotProduct = dotProduct + x[i]**2\n",
    "    return dotProduct **0.5\n",
    "print(E_len(np.array([3,4])))"
   ]
  },
  {
   "cell_type": "code",
   "execution_count": null,
   "id": "8f7d33f1",
   "metadata": {},
   "outputs": [],
   "source": []
  }
 ],
 "metadata": {
  "kernelspec": {
   "display_name": "Python 3",
   "language": "python",
   "name": "python3"
  },
  "language_info": {
   "codemirror_mode": {
    "name": "ipython",
    "version": 3
   },
   "file_extension": ".py",
   "mimetype": "text/x-python",
   "name": "python",
   "nbconvert_exporter": "python",
   "pygments_lexer": "ipython3",
   "version": "3.8.8"
  }
 },
 "nbformat": 4,
 "nbformat_minor": 5
}
