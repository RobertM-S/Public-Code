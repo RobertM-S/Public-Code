{
 "cells": [
  {
   "cell_type": "code",
   "execution_count": 96,
   "id": "ffd0e672",
   "metadata": {},
   "outputs": [],
   "source": [
    "import numpy as np\n",
    "import math\n",
    "from sklearn.pipeline import Pipeline\n",
    "from sklearn.pipeline import make_pipeline\n",
    "from sklearn.model_selection import GridSearchCV\n",
    "from sklearn.preprocessing import MinMaxScaler\n",
    "from sklearn.preprocessing import StandardScaler\n",
    "from sklearn.preprocessing import RobustScaler\n",
    "from sklearn.preprocessing import Normalizer\n",
    "from sklearn.datasets import load_wine\n",
    "from sklearn.model_selection import train_test_split\n",
    "from sklearn.svm import SVC\n",
    "from sklearn.model_selection import cross_val_score"
   ]
  },
  {
   "cell_type": "code",
   "execution_count": 158,
   "id": "34722e21",
   "metadata": {},
   "outputs": [],
   "source": [
    "loadDataset = load_wine()\n",
    "X_train, X_test, Y_train, Y_test = train_test_split(loadDataset['data'], loadDataset['target'], random_state = 2705)"
   ]
  },
  {
   "cell_type": "code",
   "execution_count": 178,
   "id": "54537597",
   "metadata": {},
   "outputs": [],
   "source": [
    "loadLabel = np.genfromtxt(\"zip.combined.txt\", delimiter=\" \", usecols=(0))\n",
    "loadData = np.genfromtxt(\"zip.combined.txt\", delimiter=\" \", usecols= range (1, 257))\n",
    "X_train, X_test, Y_train, Y_test = train_test_split(loadData, loadLabel, random_state = 2705)"
   ]
  },
  {
   "cell_type": "markdown",
   "id": "83cf70f0",
   "metadata": {},
   "source": [
    "Choose only one of the two above cells. The first cell loads Wine and the second cell loads the zip data"
   ]
  },
  {
   "cell_type": "code",
   "execution_count": 159,
   "id": "6371cf74",
   "metadata": {},
   "outputs": [
    {
     "name": "stdout",
     "output_type": "stream",
     "text": [
      "Generalization accuracy:  0.6692307692307692\n"
     ]
    }
   ],
   "source": [
    "svm = SVC()\n",
    "score = cross_val_score(svm, X_train, Y_train)\n",
    "print(\"Generalization accuracy: \", np.mean(score))"
   ]
  },
  {
   "cell_type": "code",
   "execution_count": null,
   "id": "5764f99b",
   "metadata": {},
   "outputs": [],
   "source": [
    "Zip Dataset: Generalization accuracy:  0.9704567964085712\n",
    "Wine Dataset: Generalization accuracy:  0.6692307692307692"
   ]
  },
  {
   "cell_type": "code",
   "execution_count": 160,
   "id": "63cb9ee6",
   "metadata": {},
   "outputs": [
    {
     "name": "stdout",
     "output_type": "stream",
     "text": [
      "Test error rate:  0.3555555555555556\n"
     ]
    }
   ],
   "source": [
    "svm.fit(X_train, Y_train)\n",
    "score = cross_val_score(svm, X_test, Y_test)\n",
    "print(\"Test error rate: \", np.mean(1-score))"
   ]
  },
  {
   "cell_type": "code",
   "execution_count": null,
   "id": "74868387",
   "metadata": {},
   "outputs": [],
   "source": [
    "Zip Dataset: Test error rate:  0.04688172043010752\n",
    "Wine Dataset: Generalization accuracy:  Test error rate:  0.3555555555555556"
   ]
  },
  {
   "cell_type": "markdown",
   "id": "471d58c4",
   "metadata": {},
   "source": [
    "Wine Dataset: The values generally hover around 0.7 Generalization and 0.3 test error rate.\n",
    "\n",
    "zip Dataset: Accuracy is around 0.97 and test error rate is around 0.04\n",
    "\n",
    "The test error rate and Generalization accuracy have a positive correlation, meaning as one increases the other normally increases as well."
   ]
  },
  {
   "cell_type": "code",
   "execution_count": 109,
   "id": "081115a9",
   "metadata": {},
   "outputs": [
    {
     "name": "stdout",
     "output_type": "stream",
     "text": [
      "Best cross-validation accuracy:  0.9851851851851852\n",
      "Test set score:  0.9777777777777777\n",
      "Best parameters:  {'svc__C': 1, 'svc__gamma': 1}\n"
     ]
    }
   ],
   "source": [
    "param_grid = {'svc__C': [0.01, 0.1, 1, 10, 100], 'svc__gamma': [0.001, 0.01, 0.1, 1, 10, 100]}\n",
    "pipe = Pipeline([(\"minmaxscaler\", MinMaxScaler()), (\"svc\", SVC())])\n",
    "#pipe = Pipeline([(\"StandardScaler\", StandardScaler()), (\"svc\", SVC())])\n",
    "#pipe = Pipeline([(\"RobustScaler\", RobustScaler()), (\"svc\", SVC())])\n",
    "#pipe = Pipeline([(\"Normalizer\", Normalizer()), (\"svc\", SVC())])\n",
    "grid = GridSearchCV(pipe, param_grid=param_grid, cv=5, n_jobs=-2)\n",
    "grid.fit(X_train, Y_train)\n",
    "print(\"Best cross-validation accuracy: \", grid.best_score_)\n",
    "print(\"Test set score: \", grid.score(X_test, Y_test))\n",
    "print(\"Best parameters: \", grid.best_params_)"
   ]
  },
  {
   "cell_type": "markdown",
   "id": "29eceefc",
   "metadata": {},
   "source": [
    "Wine Dataset:\n",
    "Min Max Scaler: \"Best cross-validation accuracy:  0.9925925925925926\" \"Test set score:  0.9555555555555556\" \"Best parameters:  {'svc__C': 1, 'svc__gamma': 0.1}\" Test Error Rate: 0.044444444\n",
    "\n",
    "Standard Scaler: \"Best cross-validation accuracy:  1.0\" \"Test set score:  0.9777777777777777\" \"Best parameters:  {'svc__C': 1, 'svc__gamma': 0.1}\" Test Error Rate: 0.0222222\n",
    "\n",
    "RobustScaler: \"Best cross-validation accuracy:  1.0\" \"Test set score:  0.9555555555555556\" \"Best parameters:  {'svc__C': 100, 'svc__gamma': 0.001}\" Test Error Rate: 0.044444444\n",
    "\n",
    "Normalizer: \"Best cross-validation accuracy:  0.9472934472934472\" \"Test set score:  0.9777777777777777\" \"Best parameters:  {'svc__C': 100, 'svc__gamma': 100}\" Test Error Rate: 0.022222222\n",
    "\n",
    "zip Dataset:\n",
    "Min Max Scaler: \"Best cross-validation accuracy:  0.9713173200043196\" \"Test set score:  0.9698924731182795\" \"Best parameters:  {'svc__C': 10, 'svc__gamma': 0.01}\" Test Error Rate: 0.0301076\n",
    "\n",
    "StandardScaler: \"Best cross-validation accuracy:  0.9657241737502764\" \"Test set score:  0.9690322580645161\" \"Best parameters:  {'svc__C': 10, 'svc__gamma': 0.001}\" Test Error Rate: 0.030967742\n",
    "\n",
    "RobustScaler: \"Best cross-validation accuracy:  0.890712783408669\" \"Test set score:  0.9329032258064516\" \"Best parameters:  {'svc__C': 10, 'svc__gamma': 0.001}\" Test Error Rate: 0.06709678\n",
    "\n",
    "Normalizer: \"Best cross-validation accuracy:  0.9746161480590138\" \"Test set score:  0.9759139784946237\" \"Best parameters:  {'svc__C': 10, 'svc__gamma': 1}\" Test Error Rate: 0.02408603\n",
    "\n",
    "Based on the results that i have found, i believe that the best scaler will be the Normalizer since in both datasets it had the lowest error rate, but on the corss validation it had the lowest on wine and highest on zip."
   ]
  },
  {
   "cell_type": "code",
   "execution_count": 181,
   "id": "c110a053",
   "metadata": {},
   "outputs": [
    {
     "name": "stdout",
     "output_type": "stream",
     "text": [
      "average P_value 0.5128505570614047\n"
     ]
    },
    {
     "data": {
      "text/plain": [
       "[<matplotlib.lines.Line2D at 0x1dd5b2b1520>]"
      ]
     },
     "execution_count": 181,
     "metadata": {},
     "output_type": "execute_result"
    },
    {
     "data": {
      "image/png": "[encoded data removed]",
      "text/plain": [
       "<Figure size 432x288 with 1 Axes>"
      ]
     },
     "metadata": {
      "needs_background": "light"
     },
     "output_type": "display_data"
    }
   ],
   "source": [
    "from sklearn.model_selection import KFold\n",
    "kf = KFold(n_splits = 5, shuffle=True, random_state = 2705)\n",
    "\n",
    "#print(decision_test)\n",
    "#print(len(X_train))\n",
    "ConformityArray = [0] *len(X_test)\n",
    "for rest_index, fold_index in kf.split(X_train):\n",
    "    X_rest, X_fold = X_train[rest_index], X_train[fold_index]\n",
    "    y_rest, y_fold = Y_train[rest_index], Y_train[fold_index]\n",
    "    svm.fit(X_rest, y_rest)\n",
    "    decision_test = svm.decision_function(X_test)\n",
    "    predicted = svm.predict(X_fold)\n",
    "    #print(predicted)\n",
    "    #print(predicted)\n",
    "    #minimum = {}\n",
    "    #for k in range(len(np.unique(y_fold))):\n",
    "    #    minimum[k] = 0\n",
    "    decision = svm.decision_function(X_fold)\n",
    "    #print(decision)\n",
    "    #print(minimum)\n",
    "    for j in range(len(X_test)):  \n",
    "        StrangeArray = []\n",
    "        for i in range(len(decision)):\n",
    "            #print(decision[i])\n",
    "            #print(predicted[i], decision[i][int(predicted[i])])\n",
    "            #(index(decision[i][int(predicted[i])]) == )\n",
    "            StrangeArray.append(decision[i][int(predicted[i])])\n",
    "            #minimum[predicted[i]] = decision[i][int(predicted[i])]\n",
    "            #print (minimum)\n",
    "        #print(StrangeArray)\n",
    "        Strangeness = 0\n",
    "        for n in range(len(StrangeArray)):\n",
    "            if(max(decision_test[j]) > StrangeArray[n]):\n",
    "                #print(max(decision_test[j]), \"max\")\n",
    "                Strangeness += 1\n",
    "        #print(len(np.unique(StrangeArray)))\n",
    "        #print(Strangeness)\n",
    "        ConformityArray[j] = ConformityArray[j] + Strangeness\n",
    "        #print(ConformityArray)\n",
    "#print(ConformityArray)\n",
    "\n",
    "p_value = []\n",
    "for i in ConformityArray:\n",
    "    p_value.append((i +1)/(len(X_train)+1))\n",
    "print(\"average P_value\", np.mean(p_value))\n",
    "\n",
    "    \n",
    "%matplotlib inline\n",
    "import matplotlib.pyplot as plt\n",
    "eps = np.zeros(100) \n",
    "err = np.zeros(100) \n",
    "for k in range(100):\n",
    "    eps[k] = k/100 \n",
    "    err[k] = 0 \n",
    "    for j in range(len(X_test)):\n",
    "        if (p_value[j] <= eps[k]): \n",
    "            err[k] = err[k] + 1 \n",
    "    err[k] = err[k] / len(X_test) \n",
    "plt.plot(eps,err)\n",
    "    \n",
    "    \n",
    "#print(ConformityArray)\n",
    "#ConformitySum = {}\n",
    "#for k in range(len(np.unique(y_fold))):\n",
    "#        ConformitySum[k] = 0\n",
    "#for i in ConformityArray:\n",
    "#    for j in range(len(i)):\n",
    "#        i[j] = i[j] - 1\n",
    "#        ConformitySum[j] = ConformitySum[j] + i[j]\n",
    "#print(ConformityArray)\n",
    "#print(\"\\n\")\n",
    "#print(ConformitySum)\n",
    "#for i in ConformitySum:\n",
    "#    print(\"the p-value of \", i , \" is: \", (ConformitySum[i] + 1)/(len(X_fold)+1))\n",
    "\n",
    "    \n",
    "    \n",
    "\n",
    "        \n",
    "#print(X_rest)\n",
    "#print(X_fold)\n",
    "#print(y_rest)\n",
    "#print(y_fold)\n",
    "    #svm.fit(X_rest, y_rest)\n",
    "#compute the rank of the test sample in each fold, strangest sample gets 1\n",
    "#subtract 1 from each rank\n",
    "#sum values of the same rank\n",
    "#divide the sum+1 by n+1 for the p-value\n",
    "#repeat for all values"
   ]
  },
  {
   "cell_type": "markdown",
   "id": "d96d1182",
   "metadata": {},
   "source": [
    "Using grid search caused it to take far too long so moved back to svm"
   ]
  }
 ],
 "metadata": {
  "kernelspec": {
   "display_name": "Python 3",
   "language": "python",
   "name": "python3"
  },
  "language_info": {
   "codemirror_mode": {
    "name": "ipython",
    "version": 3
   },
   "file_extension": ".py",
   "mimetype": "text/x-python",
   "name": "python",
   "nbconvert_exporter": "python",
   "pygments_lexer": "ipython3",
   "version": "3.8.8"
  }
 },
 "nbformat": 4,
 "nbformat_minor": 5
}
